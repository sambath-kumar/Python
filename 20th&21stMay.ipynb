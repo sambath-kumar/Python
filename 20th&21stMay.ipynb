{
 "cells": [
  {
   "cell_type": "code",
   "execution_count": 1,
   "id": "a43d54f5-0bac-40d5-8c64-289c1bcfb0b3",
   "metadata": {},
   "outputs": [
    {
     "name": "stdout",
     "output_type": "stream",
     "text": [
      "Welcome to Jupyter Notebook\n"
     ]
    }
   ],
   "source": [
    "if True:\n",
    "    print(\"Welcome to Jupyter Notebook\")\n",
    "else:\n",
    "    print(\"Wait for some time\")"
   ]
  },
  {
   "cell_type": "code",
   "execution_count": 3,
   "id": "660bd34b-0883-40be-b612-9a9170283dcf",
   "metadata": {},
   "outputs": [
    {
     "name": "stdout",
     "output_type": "stream",
     "text": [
      "9\n"
     ]
    }
   ],
   "source": [
    "none = 9\n",
    "print(none)"
   ]
  },
  {
   "cell_type": "code",
   "execution_count": 4,
   "id": "cac6ae5a-74f3-4fb0-b466-5395275a84b8",
   "metadata": {},
   "outputs": [],
   "source": [
    "#comments"
   ]
  },
  {
   "cell_type": "code",
   "execution_count": 5,
   "id": "96c7f72d-d816-4715-ba88-62484c42936f",
   "metadata": {},
   "outputs": [
    {
     "data": {
      "text/plain": [
       "'\\nSambath kumar is working on python programming language\\n'"
      ]
     },
     "execution_count": 5,
     "metadata": {},
     "output_type": "execute_result"
    }
   ],
   "source": [
    "\"\"\"\n",
    "Sambath kumar is working on python programming language\n",
    "\"\"\""
   ]
  },
  {
   "cell_type": "code",
   "execution_count": 6,
   "id": "82860c52-0eb4-4ac7-84c1-66f177c50849",
   "metadata": {},
   "outputs": [
    {
     "name": "stdout",
     "output_type": "stream",
     "text": [
      "The sum of two numbers are..\n",
      "35.5\n"
     ]
    }
   ],
   "source": [
    "def sam(a,b):\n",
    "    \"\"\"\n",
    "    a is first number\n",
    "    b is second number\n",
    "    \"\"\"\n",
    "    print(\"The sum of two numbers are..\")\n",
    "    return a+b\n",
    "\n",
    "c=sam(15,20.5)\n",
    "print(c)"
   ]
  },
  {
   "cell_type": "code",
   "execution_count": 7,
   "id": "93200f7c-d2ce-44c2-96b4-e0c938194050",
   "metadata": {},
   "outputs": [
    {
     "name": "stdout",
     "output_type": "stream",
     "text": [
      "Welcome\n"
     ]
    }
   ],
   "source": [
    "\"\"\"\n",
    "    a is first number\n",
    "    b is second number\n",
    "    \"\"\"\n",
    "print(\"Welcome\")"
   ]
  },
  {
   "cell_type": "code",
   "execution_count": 9,
   "id": "53699689-d65f-47e0-a3c0-1be8e6131de8",
   "metadata": {},
   "outputs": [
    {
     "name": "stdout",
     "output_type": "stream",
     "text": [
      "4\n"
     ]
    },
    {
     "data": {
      "text/plain": [
       "'\\n    a is first number\\n    b is second number\\n'"
      ]
     },
     "execution_count": 9,
     "metadata": {},
     "output_type": "execute_result"
    }
   ],
   "source": [
    "a=4\n",
    "print(a)\n",
    "\"\"\"\n",
    "    a is first number\n",
    "    b is second number\n",
    "\"\"\""
   ]
  },
  {
   "cell_type": "code",
   "execution_count": 40,
   "id": "72984bcc-7b80-46ea-99fe-56a1f6c82c5c",
   "metadata": {},
   "outputs": [
    {
     "name": "stdout",
     "output_type": "stream",
     "text": [
      "4\n"
     ]
    }
   ],
   "source": [
    "a=4\n",
    "\n",
    "\"\"\"\n",
    "    It is another representation of multi-line comments\n",
    "    Instead of multiple #\n",
    "    a is first number\n",
    "    b is second number\n",
    "\"\"\"\n",
    "print(a)"
   ]
  },
  {
   "cell_type": "raw",
   "id": "2c106026-9cac-4795-8f05-bd407a6a2b04",
   "metadata": {},
   "source": [
    "Keyword:\n",
    "    It is reserved name or word to do specific purpose\n",
    "    eg,. print, if, else, and so on.\n",
    "    35 keywords available as on May 2023."
   ]
  },
  {
   "cell_type": "code",
   "execution_count": 12,
   "id": "ef180943-d18e-45c2-9730-547d1439767b",
   "metadata": {},
   "outputs": [
    {
     "name": "stdout",
     "output_type": "stream",
     "text": [
      "['False', 'None', 'True', 'and', 'as', 'assert', 'async', 'await', 'break', 'class', 'continue', 'def', 'del', 'elif', 'else', 'except', 'finally', 'for', 'from', 'global', 'if', 'import', 'in', 'is', 'lambda', 'nonlocal', 'not', 'or', 'pass', 'raise', 'return', 'try', 'while', 'with', 'yield']\n"
     ]
    }
   ],
   "source": [
    "import keyword\n",
    "print(keyword.kwlist)"
   ]
  },
  {
   "cell_type": "code",
   "execution_count": 13,
   "id": "b2071cad-7f7d-437e-8b60-5549c7d7b1a8",
   "metadata": {},
   "outputs": [
    {
     "name": "stdout",
     "output_type": "stream",
     "text": [
      "5\n"
     ]
    }
   ],
   "source": [
    "s = 5\n",
    "print(s)"
   ]
  },
  {
   "cell_type": "code",
   "execution_count": 23,
   "id": "ac2fe0da-5a6d-41df-94ab-0ccc10286a49",
   "metadata": {},
   "outputs": [
    {
     "name": "stdout",
     "output_type": "stream",
     "text": [
      "s1:  5.5\n",
      "s2:  6\n",
      "11.5\n",
      "6\n"
     ]
    }
   ],
   "source": [
    "s1 = 5.5\n",
    "def sum1(a,b):\n",
    "    global s2 \n",
    "    s2 = 6\n",
    "    print(\"s1: \",s1)\n",
    "    print(\"s2: \",s2)\n",
    "    return a+s2\n",
    "\n",
    "print(sum1(s1,7))\n",
    "print(s2)"
   ]
  },
  {
   "cell_type": "markdown",
   "id": "29fb0a6d-02f7-4a45-ad92-ddf668581a8f",
   "metadata": {},
   "source": [
    "Comments"
   ]
  },
  {
   "cell_type": "code",
   "execution_count": 1,
   "id": "a37b454c-07b0-4d2e-b74d-d075bb4bb4be",
   "metadata": {},
   "outputs": [
    {
     "name": "stdout",
     "output_type": "stream",
     "text": [
      "13\n"
     ]
    }
   ],
   "source": [
    "# Add two numbers\n",
    "# Single-line comment\n",
    "a=5    # value of a\n",
    "b=8    # value of b\n",
    "c=a+b  # add a and b\n",
    "print(c)"
   ]
  },
  {
   "cell_type": "code",
   "execution_count": 28,
   "id": "ce2b32a5-bb39-4627-968a-e2baa7ddcb7c",
   "metadata": {},
   "outputs": [],
   "source": [
    "### hai all\n",
    "# it is an example for multi-line comment"
   ]
  },
  {
   "cell_type": "code",
   "execution_count": 33,
   "id": "b395e43a-5261-4b26-bbeb-89d2a3e48588",
   "metadata": {},
   "outputs": [],
   "source": [
    "def sum2(a,b):\n",
    "    '''\n",
    "    Inputs:\n",
    "    a is first number\n",
    "    b is second number\n",
    "    \n",
    "    Return:\n",
    "    add a and b\n",
    "    '''\n",
    "    return a+b\n"
   ]
  },
  {
   "cell_type": "code",
   "execution_count": 30,
   "id": "8bdd3630-4969-4c20-af89-7684d9761b84",
   "metadata": {},
   "outputs": [],
   "source": [
    "c=sum2(11,16)"
   ]
  },
  {
   "cell_type": "code",
   "execution_count": 31,
   "id": "8791ad92-830f-4f00-b5df-faa0bdf22fcf",
   "metadata": {},
   "outputs": [
    {
     "name": "stdout",
     "output_type": "stream",
     "text": [
      "27\n"
     ]
    }
   ],
   "source": [
    "print(c)"
   ]
  },
  {
   "cell_type": "raw",
   "id": "95f31399-1cf4-4811-a501-b78b4d0ff513",
   "metadata": {},
   "source": [
    "Calling doc string using a syntax:\n",
    "\"functionname.__doc__\"\n",
    "Generally, used for functions or classes"
   ]
  },
  {
   "cell_type": "code",
   "execution_count": 34,
   "id": "8c1d105a-c8c0-45fd-b842-8439de9ffeea",
   "metadata": {},
   "outputs": [
    {
     "data": {
      "text/plain": [
       "'\\n    Inputs:\\n    a is first number\\n    b is second number\\n    \\n    Return:\\n    add a and b\\n    '"
      ]
     },
     "execution_count": 34,
     "metadata": {},
     "output_type": "execute_result"
    }
   ],
   "source": [
    "sum2.__doc__"
   ]
  },
  {
   "cell_type": "code",
   "execution_count": 35,
   "id": "94f18a2b-0fe7-4196-b434-66409fd237f4",
   "metadata": {},
   "outputs": [],
   "source": [
    "def sum2(a,b):\n",
    "    \"\"\"\n",
    "    Inputs:\n",
    "    a is first number\n",
    "    b is second number\n",
    "    \n",
    "    Return:\n",
    "    add a and b\n",
    "    \"\"\"\n",
    "    return a+b\n"
   ]
  },
  {
   "cell_type": "code",
   "execution_count": 38,
   "id": "96a151a9-065b-4375-b58e-f189c6f3cd7b",
   "metadata": {},
   "outputs": [
    {
     "name": "stdout",
     "output_type": "stream",
     "text": [
      "\n",
      "    Inputs:\n",
      "    a is first number\n",
      "    b is second number\n",
      "    \n",
      "    Return:\n",
      "    add a and b\n",
      "    \n"
     ]
    }
   ],
   "source": [
    "# It shows documentation part of a function : sum2\n",
    "print(sum2.__doc__)"
   ]
  },
  {
   "cell_type": "raw",
   "id": "064c1a39-1ce9-4fec-9eb5-d4e66db482df",
   "metadata": {},
   "source": [
    "Indentation: Spacing properly for a block\n",
    "It has minimum one space bar \n",
    "it has four space bar by default\n",
    "But, it should be same in a same block"
   ]
  },
  {
   "cell_type": "code",
   "execution_count": 46,
   "id": "7372f2dd-009c-4bc5-b027-177ce4c2c243",
   "metadata": {},
   "outputs": [
    {
     "name": "stdout",
     "output_type": "stream",
     "text": [
      "0\n",
      "1\n",
      "2\n",
      "3\n",
      "4\n"
     ]
    }
   ],
   "source": [
    "for i in range(0,5,1):\n",
    " print(i) # single space indentation"
   ]
  },
  {
   "cell_type": "code",
   "execution_count": 47,
   "id": "a9a9bc51-f7e7-4c35-bbde-8d2b8b6d7b6e",
   "metadata": {},
   "outputs": [],
   "source": [
    "while False:\n",
    "    print(\"wrong\")"
   ]
  },
  {
   "cell_type": "raw",
   "id": "3fd5f3d1-a533-4132-88a9-2106ec615ade",
   "metadata": {},
   "source": [
    "Statements:\n",
    "Logical instructions \n",
    "Types:\n",
    "Assignment statements,\n",
    "conditional statements,\n",
    "loop statements, etc,."
   ]
  },
  {
   "cell_type": "code",
   "execution_count": 48,
   "id": "596b58db-337b-45c3-8b7f-d3e46c557d95",
   "metadata": {},
   "outputs": [
    {
     "name": "stdout",
     "output_type": "stream",
     "text": [
      "216.0\n"
     ]
    }
   ],
   "source": [
    "f = 1 + 4 + 6 + 2 + 8.6 + 2.4 + 1 + 4 + 6 + 2 + 8.6 + 2.4 + 1 + 4 + 6 + 2 + 8.6 + 2.4 + 1 + 4 + 6 + 2 + 8.6 + 2.4 + 1 + 4 + 6 + 2 + 8.6 + 2.4 + 1 + 4 + 6 + 2 + 8.6 + 2.4 + 1 + 4 + 6 + 2 + 8.6 + 2.4 + 1 + 4 + 6 + 2 + 8.6 + 2.4 + 1 + 4 + 6 + 2 + 8.6 + 2.4\n",
    "print(f)"
   ]
  },
  {
   "cell_type": "code",
   "execution_count": 50,
   "id": "cb4736e4-2469-43aa-a0f4-7f36cfe4fa2a",
   "metadata": {},
   "outputs": [
    {
     "name": "stdout",
     "output_type": "stream",
     "text": [
      "72.0\n"
     ]
    }
   ],
   "source": [
    "# multi-line statements using backslash\n",
    "\n",
    "f1 = 1 + 4 + 6 + 2 + 8.6 + 2.4 + \\\n",
    "    1 + 4 + 6 + 2 + 8.6 + 2.4 + \\\n",
    "    1 + 4 + 6 + 2 + 8.6 + 2.4\n",
    "    \n",
    "print(f1)"
   ]
  },
  {
   "cell_type": "code",
   "execution_count": 53,
   "id": "1229544a-421f-4b73-9b8e-fa454adba51e",
   "metadata": {},
   "outputs": [
    {
     "name": "stdout",
     "output_type": "stream",
     "text": [
      "96.0\n"
     ]
    }
   ],
   "source": [
    "# multi-line statements using bracket [], {}, or paranthesis ()\n",
    "f2 = (1 + 4 + 6 + 2 + 8.6 + 2.4 + \n",
    "      1 + 4 + 6 + 2 + 8.6 + 2.4 + \n",
    "      1 + 4 + 6 + 2 + 8.6 + 2.4 + \n",
    "      1 + 4 + 6 + 2 + 8.6 + 2.4 )\n",
    "print(f2)"
   ]
  },
  {
   "cell_type": "raw",
   "id": "bc283aab-2942-4b11-a0ae-95e4fc751af1",
   "metadata": {},
   "source": [
    "VAriable:\n",
    "    It is a named location to stored data in a memory\n",
    "    It is assigned by '=' operator\n",
    "    It is dynamic type. no need to mention data type when we assign.\n",
    "    we may chage the type by using \"cast\" keyword."
   ]
  },
  {
   "cell_type": "code",
   "execution_count": 59,
   "id": "14ed61b9-9ae0-4344-8824-9e93c37a7b28",
   "metadata": {},
   "outputs": [
    {
     "name": "stdout",
     "output_type": "stream",
     "text": [
      "<class 'int'>\n",
      "<class 'float'>\n"
     ]
    }
   ],
   "source": [
    "a=5\n",
    "b=7.5\n",
    "print(type(a)) # type keyword shows the datatype of a variable\n",
    "print(type(b))"
   ]
  },
  {
   "cell_type": "code",
   "execution_count": 58,
   "id": "4440422d-44e2-4673-bc0e-02ace138db42",
   "metadata": {},
   "outputs": [
    {
     "data": {
      "text/plain": [
       "float"
      ]
     },
     "execution_count": 58,
     "metadata": {},
     "output_type": "execute_result"
    }
   ],
   "source": [
    "type(a)\n",
    "type(b) #display only last statement unlike print function which display all statements"
   ]
  },
  {
   "cell_type": "raw",
   "id": "11efe4dd-fe47-4840-993f-abd350f91a27",
   "metadata": {},
   "source": [
    "DATA TYPES:\n",
    "    int \n",
    "    float\n",
    "    string\n",
    "    list\n",
    "    tuple\n",
    "    dictionary\n",
    "    "
   ]
  },
  {
   "cell_type": "code",
   "execution_count": 61,
   "id": "48ca561f-c3c4-4c38-9f9c-4c198b59f856",
   "metadata": {},
   "outputs": [
    {
     "name": "stdout",
     "output_type": "stream",
     "text": [
      "sambath kumar\n"
     ]
    }
   ],
   "source": [
    "a1 = \"sambath\" #string using double quote\n",
    "a2 = ' kumar'  #string using single quote\n",
    "print(a1+a2)   # merge or concatenate two strings"
   ]
  },
  {
   "cell_type": "code",
   "execution_count": 16,
   "id": "0cc45592-4b0c-4aef-aa0d-eece05057f0d",
   "metadata": {},
   "outputs": [
    {
     "name": "stdout",
     "output_type": "stream",
     "text": [
      "['apple', 'orange', 1, 'water', 10.66, 'watermelon']\n"
     ]
    }
   ],
   "source": [
    "# List : contain heterogeneous elements\n",
    "# ordered items, mutable - changable (add, delete, edit or modify elements anywhere in a list)\n",
    "# ordered = get the value using index as 0,1,2,...N-1\n",
    "items = [\"apple\", \"orange\", 1, \"water\", 10.66, \"watermelon\"]\n",
    "print(items)\n",
    "# contain strings, int and float"
   ]
  },
  {
   "cell_type": "code",
   "execution_count": 69,
   "id": "caea2d81-1ef5-40f7-bb86-f773d59c4b37",
   "metadata": {},
   "outputs": [
    {
     "name": "stdout",
     "output_type": "stream",
     "text": [
      "['apple', 'orange', 'water', 'watermelon', [1, 10.66]]\n"
     ]
    }
   ],
   "source": [
    "items1 = [\"apple\", \"orange\", \"water\", \"watermelon\", [1,10.66]]\n",
    "print(items1)"
   ]
  },
  {
   "cell_type": "raw",
   "id": "b3ee9014-2953-4e16-bcc4-520f27a72e02",
   "metadata": {},
   "source": [
    "Tuples:\n",
    "    odered\n",
    "    immutable\n",
    "    create by ()\n",
    "    "
   ]
  },
  {
   "cell_type": "code",
   "execution_count": 72,
   "id": "6becbcc8-faad-413c-857e-f30b14c04b09",
   "metadata": {},
   "outputs": [
    {
     "name": "stdout",
     "output_type": "stream",
     "text": [
      "(1, 2, 3, 'name', 'age')\n"
     ]
    }
   ],
   "source": [
    "# Tuple : Like list but it is unmutable.\n",
    "# created by using ()\n",
    "item2 = (1,2,3,\"name\",\"age\")\n",
    "print(item2)"
   ]
  },
  {
   "cell_type": "code",
   "execution_count": 18,
   "id": "db811800-ace0-42fb-a88b-3f9cf10217ef",
   "metadata": {},
   "outputs": [],
   "source": [
    "het_tuple=(1,2,3,[\"name\",\"age\"])"
   ]
  },
  {
   "cell_type": "code",
   "execution_count": 19,
   "id": "25f1124f-3522-40f5-8040-f5d1ed053f26",
   "metadata": {},
   "outputs": [
    {
     "data": {
      "text/plain": [
       "(1, 2, 3, ['name', 'age'])"
      ]
     },
     "execution_count": 19,
     "metadata": {},
     "output_type": "execute_result"
    }
   ],
   "source": [
    "het_tuple"
   ]
  },
  {
   "cell_type": "code",
   "execution_count": 20,
   "id": "f44b88d6-37ee-4ef0-b1bb-d89938d04fa2",
   "metadata": {},
   "outputs": [
    {
     "data": {
      "text/plain": [
       "2"
      ]
     },
     "execution_count": 20,
     "metadata": {},
     "output_type": "execute_result"
    }
   ],
   "source": [
    "het_tuple[1]"
   ]
  },
  {
   "cell_type": "raw",
   "id": "54d73b83-8e89-40dc-9748-742ecb881194",
   "metadata": {},
   "source": [
    "Dictionary:\n",
    "    Key:value pair\n",
    "    mutable \n",
    "    unordered - Not indexed like list \n",
    "    created by using {}"
   ]
  },
  {
   "cell_type": "code",
   "execution_count": 75,
   "id": "567224cc-2317-4916-bcb8-d7b657436db7",
   "metadata": {},
   "outputs": [],
   "source": [
    "my_dict = {\"Name\":\"sambath\", \"Age\": 36, \"items\":[2,5,6,7], (\"qualification\",'mobile'):[\"MTech\",\"Redmi\"]}"
   ]
  },
  {
   "cell_type": "code",
   "execution_count": 76,
   "id": "61dee3b1-1389-420e-bda8-9039c8051726",
   "metadata": {},
   "outputs": [
    {
     "name": "stdout",
     "output_type": "stream",
     "text": [
      "{'Name': 'sambath', 'Age': 36, 'items': [2, 5, 6, 7], ('qualification', 'mobile'): ['MTech', 'Redmi']}\n"
     ]
    }
   ],
   "source": [
    "print(my_dict)"
   ]
  },
  {
   "cell_type": "code",
   "execution_count": 23,
   "id": "ad424a07-a9ca-49ef-9c9a-514391240247",
   "metadata": {},
   "outputs": [
    {
     "name": "stdout",
     "output_type": "stream",
     "text": [
      "{'Name': 'sambath', 'Age': 36, 'items': 'banana', 'marks': 98}\n"
     ]
    }
   ],
   "source": [
    "my_dict1 = {\"Name\":\"sambath\", \"Age\": 36, \"items\":\"banana\", \"marks\":98}\n",
    "print(my_dict1)"
   ]
  },
  {
   "cell_type": "raw",
   "id": "8c55bb0f-8c5d-448f-b7c8-f9945d449106",
   "metadata": {},
   "source": [
    "Set type:\n",
    "    Unordered collection of items like dictionary\n",
    "    Each element is unique\n",
    "    It is like set theory (union, intersection,..)\n",
    "    create by using {}\n",
    "        "
   ]
  },
  {
   "cell_type": "code",
   "execution_count": 4,
   "id": "b382ab2c-676c-4b75-b7c7-0a3ab18d6c58",
   "metadata": {},
   "outputs": [
    {
     "name": "stdout",
     "output_type": "stream",
     "text": [
      "{'orange', 'banana', 'apple'}\n"
     ]
    }
   ],
   "source": [
    "fruits = {\"banana\", \"orange\", \"apple\"}\n",
    "print(fruits)"
   ]
  },
  {
   "cell_type": "raw",
   "id": "a875172c-0a33-42e6-8930-2821c3874852",
   "metadata": {},
   "source": [
    "Standard input and output:\n",
    "     Instead of hard coding, user can give their input when program runs\n",
    "     "
   ]
  },
  {
   "cell_type": "code",
   "execution_count": 5,
   "id": "b050ca71-9154-48c0-8667-3e4389818fce",
   "metadata": {},
   "outputs": [
    {
     "name": "stdin",
     "output_type": "stream",
     "text": [
      "Enter the Name: Sambath Kumar\n"
     ]
    },
    {
     "name": "stdout",
     "output_type": "stream",
     "text": [
      "Sambath Kumar\n"
     ]
    }
   ],
   "source": [
    "ab = input(\"Enter the Name:\")\n",
    "print(ab)"
   ]
  },
  {
   "cell_type": "code",
   "execution_count": 10,
   "id": "32a3a9b0-4c2b-4449-a699-eae24633722d",
   "metadata": {},
   "outputs": [
    {
     "name": "stdin",
     "output_type": "stream",
     "text": [
      "Enter the Name: sambath\n"
     ]
    },
    {
     "name": "stdout",
     "output_type": "stream",
     "text": [
      "how are you! sambath\n"
     ]
    }
   ],
   "source": [
    "ab = input(\"Enter the Name:\")\n",
    "print(f\"how are you! {ab}\")  #f before the string in print function to format the string literals (f-string)\n",
    "\n",
    "# pass the variable inside {}, evaluated and inserted into string"
   ]
  },
  {
   "cell_type": "raw",
   "id": "0e1123e3-a507-41d3-b2af-77999807957a",
   "metadata": {},
   "source": [
    "Package"
   ]
  },
  {
   "cell_type": "code",
   "execution_count": 11,
   "id": "fb53455b-77e0-4c0e-9320-49e61de71433",
   "metadata": {},
   "outputs": [
    {
     "name": "stdout",
     "output_type": "stream",
     "text": [
      "5.0\n"
     ]
    }
   ],
   "source": [
    "import math\n",
    "i = math.sqrt(25)\n",
    "print(i)"
   ]
  },
  {
   "cell_type": "raw",
   "id": "83d5efaa-e1df-4bcd-9ee0-ef7bf963db65",
   "metadata": {},
   "source": [
    "other ways to call package and particular module or function"
   ]
  },
  {
   "cell_type": "code",
   "execution_count": 12,
   "id": "0f0f1a19-d811-4f5e-8e18-a687e357bd97",
   "metadata": {},
   "outputs": [
    {
     "name": "stdout",
     "output_type": "stream",
     "text": [
      "5.0\n"
     ]
    }
   ],
   "source": [
    "import math as m\n",
    "i = m.sqrt(25)\n",
    "print(i)"
   ]
  },
  {
   "cell_type": "code",
   "execution_count": 14,
   "id": "f1b031c6-62a6-4e78-aa4c-f5599c886b06",
   "metadata": {},
   "outputs": [
    {
     "name": "stdout",
     "output_type": "stream",
     "text": [
      "4.0\n"
     ]
    }
   ],
   "source": [
    "# It saves memory \n",
    "from math import sqrt\n",
    "j = sqrt(16)\n",
    "print(j)"
   ]
  },
  {
   "cell_type": "code",
   "execution_count": null,
   "id": "f12f6aa4-742a-4e36-b494-9dbc6b7a94d4",
   "metadata": {},
   "outputs": [],
   "source": []
  }
 ],
 "metadata": {
  "kernelspec": {
   "display_name": "Python 3 (ipykernel)",
   "language": "python",
   "name": "python3"
  },
  "language_info": {
   "codemirror_mode": {
    "name": "ipython",
    "version": 3
   },
   "file_extension": ".py",
   "mimetype": "text/x-python",
   "name": "python",
   "nbconvert_exporter": "python",
   "pygments_lexer": "ipython3",
   "version": "3.10.6"
  }
 },
 "nbformat": 4,
 "nbformat_minor": 5
}
